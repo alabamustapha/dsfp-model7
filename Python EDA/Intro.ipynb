{
 "cells": [
  {
   "cell_type": "markdown",
   "id": "61842964",
   "metadata": {},
   "source": [
    "# write python code to multiply two numbers"
   ]
  },
  {
   "cell_type": "code",
   "execution_count": 29,
   "id": "0e3a936d",
   "metadata": {},
   "outputs": [
    {
     "data": {
      "text/plain": [
       "[6, 7, 8, 9]"
      ]
     },
     "execution_count": 29,
     "metadata": {},
     "output_type": "execute_result"
    }
   ],
   "source": [
    "ages = [1,2,3,4,5,5,6,7,8,9]\n",
    "\n",
    "new_ages = []\n",
    "for age in ages:\n",
    "    if age > 5:\n",
    "        new_ages.append(age)\n",
    "        if len(new_ages) > 3:\n",
    "            break\n",
    "\n",
    "    \n",
    "new_ages"
   ]
  },
  {
   "cell_type": "code",
   "execution_count": 30,
   "id": "9b08e1e4",
   "metadata": {},
   "outputs": [
    {
     "name": "stdout",
     "output_type": "stream",
     "text": [
      " Please input your name here: Yusuf Nasir\n"
     ]
    },
    {
     "data": {
      "text/plain": [
       "'risaN fusuY'"
      ]
     },
     "execution_count": 30,
     "metadata": {},
     "output_type": "execute_result"
    }
   ],
   "source": [
    "your_name = str(input(\" Please input your name here: \"))\n",
    "your_name[::-1]"
   ]
  },
  {
   "cell_type": "code",
   "execution_count": 31,
   "id": "6b1b7081",
   "metadata": {},
   "outputs": [
    {
     "name": "stdout",
     "output_type": "stream",
     "text": [
      "1\n",
      "2\n",
      "3\n",
      "4\n",
      "5\n",
      "6\n",
      "7\n",
      "8\n",
      "9\n",
      "10\n"
     ]
    }
   ],
   "source": [
    "numbers = [1,2,3,4,5,6,7,8,9,10]\n",
    "for num in numbers:\n",
    "    print(num)"
   ]
  },
  {
   "cell_type": "code",
   "execution_count": 5,
   "id": "c2b8c3ff",
   "metadata": {},
   "outputs": [
    {
     "data": {
      "text/plain": [
       "25"
      ]
     },
     "execution_count": 5,
     "metadata": {},
     "output_type": "execute_result"
    }
   ],
   "source": [
    "age = 23\n",
    "\n",
    "height = 23.8\n",
    "\n",
    "name = \"Mustapha Laba\""
   ]
  },
  {
   "cell_type": "markdown",
   "id": "28f67b35",
   "metadata": {},
   "source": [
    "# +, /, //"
   ]
  },
  {
   "cell_type": "code",
   "execution_count": 14,
   "id": "1fef9a6d",
   "metadata": {},
   "outputs": [
    {
     "data": {
      "text/plain": [
       "'The average of 2, 5, 6 is: 4'"
      ]
     },
     "execution_count": 14,
     "metadata": {},
     "output_type": "execute_result"
    }
   ],
   "source": [
    "num1 = 2\n",
    "num2 = 5\n",
    "num3 = 6\n",
    "avg = (num1 + num2 + num3) // 3\n",
    "\n",
    "\"The average of {}, {}, {} is: {}\".format(num1, num2, num3, avg)"
   ]
  }
 ],
 "metadata": {
  "kernelspec": {
   "display_name": "Python 3",
   "language": "python",
   "name": "python3"
  },
  "language_info": {
   "codemirror_mode": {
    "name": "ipython",
    "version": 3
   },
   "file_extension": ".py",
   "mimetype": "text/x-python",
   "name": "python",
   "nbconvert_exporter": "python",
   "pygments_lexer": "ipython3",
   "version": "3.8.8"
  }
 },
 "nbformat": 4,
 "nbformat_minor": 5
}
